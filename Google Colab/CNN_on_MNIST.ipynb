{
  "nbformat": 4,
  "nbformat_minor": 0,
  "metadata": {
    "colab": {
      "name": "CNN_on_MNIST.ipynb",
      "provenance": []
    },
    "kernelspec": {
      "name": "python3",
      "display_name": "Python 3"
    },
    "language_info": {
      "name": "python"
    },
    "accelerator": "GPU"
  },
  "cells": [
    {
      "cell_type": "code",
      "metadata": {
        "id": "K79mxeEkNM7G"
      },
      "source": [
        "import numpy as np\n",
        "import pandas as pd\n",
        "from keras.datasets import mnist\n",
        "from keras.models import Sequential\n",
        "from keras.layers import Dense,Conv2D,MaxPooling2D,Flatten"
      ],
      "execution_count": 1,
      "outputs": []
    },
    {
      "cell_type": "code",
      "metadata": {
        "colab": {
          "base_uri": "https://localhost:8080/"
        },
        "id": "52BZza80N2y9",
        "outputId": "9ebe070d-9fa3-4262-a40a-76cb4dd7fc0f"
      },
      "source": [
        "(x_train, y_train), (x_test, y_test) = mnist.load_data()\n",
        "\n",
        "print(x_train.shape)\n",
        "print(y_train.shape)"
      ],
      "execution_count": 2,
      "outputs": [
        {
          "output_type": "stream",
          "text": [
            "Downloading data from https://storage.googleapis.com/tensorflow/tf-keras-datasets/mnist.npz\n",
            "11493376/11490434 [==============================] - 0s 0us/step\n",
            "11501568/11490434 [==============================] - 0s 0us/step\n",
            "(60000, 28, 28)\n",
            "(60000,)\n"
          ],
          "name": "stdout"
        }
      ]
    },
    {
      "cell_type": "markdown",
      "metadata": {
        "id": "9O_NoHY9N6io"
      },
      "source": [
        "##**Data Preparation**"
      ]
    },
    {
      "cell_type": "code",
      "metadata": {
        "colab": {
          "base_uri": "https://localhost:8080/"
        },
        "id": "5WvYJL6mOFR4",
        "outputId": "68684710-ddf8-47b9-a0eb-078d1078b4b3"
      },
      "source": [
        "# Creating one-hot representation of target\n",
        "y_train_encoded = []\n",
        "y_test_encoded = []\n",
        "\n",
        "for label in y_train:\n",
        "    encoded = np.zeros(10)\n",
        "    encoded[label]=1\n",
        "    y_train_encoded.append(encoded)\n",
        "for label in y_test:\n",
        "    encoded = np.zeros(10)\n",
        "    encoded[label]=1\n",
        "    y_test_encoded.append(encoded)\n",
        "\n",
        "    \n",
        "y_train_encoded = np.array(y_train_encoded)\n",
        "y_test_encoded = np.array(y_test_encoded)\n",
        "\n",
        "print(y_train[1])\n",
        "print(y_train_encoded[1])"
      ],
      "execution_count": 3,
      "outputs": [
        {
          "output_type": "stream",
          "text": [
            "0\n",
            "[1. 0. 0. 0. 0. 0. 0. 0. 0. 0.]\n"
          ],
          "name": "stdout"
        }
      ]
    },
    {
      "cell_type": "code",
      "metadata": {
        "colab": {
          "base_uri": "https://localhost:8080/"
        },
        "id": "FtMe8VrdOOA_",
        "outputId": "87011152-3093-4f6c-8866-1f40988a3db3"
      },
      "source": [
        "# Scaling the values\n",
        "x_train = x_train/255\n",
        "x_test = x_test/255\n",
        "\n",
        "print(x_train[:3])"
      ],
      "execution_count": 4,
      "outputs": [
        {
          "output_type": "stream",
          "text": [
            "[[[0. 0. 0. ... 0. 0. 0.]\n",
            "  [0. 0. 0. ... 0. 0. 0.]\n",
            "  [0. 0. 0. ... 0. 0. 0.]\n",
            "  ...\n",
            "  [0. 0. 0. ... 0. 0. 0.]\n",
            "  [0. 0. 0. ... 0. 0. 0.]\n",
            "  [0. 0. 0. ... 0. 0. 0.]]\n",
            "\n",
            " [[0. 0. 0. ... 0. 0. 0.]\n",
            "  [0. 0. 0. ... 0. 0. 0.]\n",
            "  [0. 0. 0. ... 0. 0. 0.]\n",
            "  ...\n",
            "  [0. 0. 0. ... 0. 0. 0.]\n",
            "  [0. 0. 0. ... 0. 0. 0.]\n",
            "  [0. 0. 0. ... 0. 0. 0.]]\n",
            "\n",
            " [[0. 0. 0. ... 0. 0. 0.]\n",
            "  [0. 0. 0. ... 0. 0. 0.]\n",
            "  [0. 0. 0. ... 0. 0. 0.]\n",
            "  ...\n",
            "  [0. 0. 0. ... 0. 0. 0.]\n",
            "  [0. 0. 0. ... 0. 0. 0.]\n",
            "  [0. 0. 0. ... 0. 0. 0.]]]\n"
          ],
          "name": "stdout"
        }
      ]
    },
    {
      "cell_type": "code",
      "metadata": {
        "colab": {
          "base_uri": "https://localhost:8080/",
          "height": 265
        },
        "id": "a8R6UYZ0OQ8f",
        "outputId": "fea64cc7-1d11-4f02-a41e-99180bdff7c8"
      },
      "source": [
        "import matplotlib.pyplot as plt\n",
        "plt.imshow(x_train[1],cmap=\"gray\")\n",
        "plt.show()"
      ],
      "execution_count": 5,
      "outputs": [
        {
          "output_type": "display_data",
          "data": {
            "image/png": "[encoded data removed]",
            "text/plain": [
              "<Figure size 432x288 with 1 Axes>"
            ]
          },
          "metadata": {
            "tags": [],
            "needs_background": "light"
          }
        }
      ]
    },
    {
      "cell_type": "code",
      "metadata": {
        "colab": {
          "base_uri": "https://localhost:8080/"
        },
        "id": "ff9WynZCOVS3",
        "outputId": "06b6f1e0-bcfb-4afd-9197-a463442a6445"
      },
      "source": [
        "type(y_train_encoded)"
      ],
      "execution_count": 6,
      "outputs": [
        {
          "output_type": "execute_result",
          "data": {
            "text/plain": [
              "numpy.ndarray"
            ]
          },
          "metadata": {
            "tags": []
          },
          "execution_count": 6
        }
      ]
    },
    {
      "cell_type": "code",
      "metadata": {
        "id": "rRChPNJ5OYl_"
      },
      "source": [
        "\"\"\"\n",
        "Conv2D however expects 4 dimensions,because it also expects the channels dimension of image,\n",
        "which in MNIST is nonexistent because it’s grayscale data and hence is 1.\n",
        "\n",
        "Reshaping the data, while explicitly adding the channels dimension, resolves the issue.\n",
        "The input shape a CNN accepts should be in a specific format.\n",
        "In Tensorflow,the format is (num_samples, height, width, channels)\n",
        "\"\"\"\n",
        "# x_train.shape = (60000, 28, 28)\n",
        "x_train = x_train.reshape(x_train.shape[0], 28, 28, 1)\n",
        "x_test = x_test.reshape(x_test.shape[0], 28, 28, 1)"
      ],
      "execution_count": 7,
      "outputs": []
    },
    {
      "cell_type": "markdown",
      "metadata": {
        "id": "6P2lrFrcObzR"
      },
      "source": [
        "## **Model Training**"
      ]
    },
    {
      "cell_type": "code",
      "metadata": {
        "colab": {
          "base_uri": "https://localhost:8080/"
        },
        "id": "dT0jx2nhOg8f",
        "outputId": "deb95bc3-ba75-4b49-faf4-f93567e5d3fa"
      },
      "source": [
        "from keras.models import Sequential\n",
        "from keras.layers import Dense, Conv2D, MaxPooling2D, Flatten, Dropout,BatchNormalization,Activation\n",
        "from keras.callbacks import Callback\n",
        "\n",
        "# Defining the model\n",
        "model = Sequential()\n",
        "model.add(Conv2D(32, (3, 3), input_shape=(28,28,1)))\n",
        "model.add(BatchNormalization(axis=-1))\n",
        "model.add(Activation('relu'))\n",
        "model.add(Conv2D(32, (3, 3)))\n",
        "model.add(BatchNormalization(axis=-1))\n",
        "model.add(Activation('relu'))\n",
        "model.add(MaxPooling2D(pool_size=(2,2)))\n",
        "model.add(Conv2D(64,(3, 3)))\n",
        "model.add(BatchNormalization(axis=-1))\n",
        "model.add(Activation('relu'))\n",
        "model.add(Conv2D(64, (3, 3)))\n",
        "model.add(BatchNormalization(axis=-1))\n",
        "model.add(Activation('relu'))\n",
        "model.add(MaxPooling2D(pool_size=(2,2)))\n",
        "model.add(Flatten())\n",
        "model.add(Dense(512))\n",
        "model.add(BatchNormalization())\n",
        "model.add(Activation('relu'))\n",
        "model.add(Dropout(0.2))\n",
        "model.add(Dense(10))\n",
        "model.add(Activation('softmax'))\n",
        "\n",
        "# loss=\"categorical_crossentropy\" gives an unidentified error.\n",
        "model.compile(optimizer=\"adam\", loss=\"sparse_categorical_crossentropy\", metrics=[\"accuracy\"])\n",
        "\n",
        "model.summary()"
      ],
      "execution_count": 12,
      "outputs": [
        {
          "output_type": "stream",
          "text": [
            "Model: \"sequential_1\"\n",
            "_________________________________________________________________\n",
            "Layer (type)                 Output Shape              Param #   \n",
            "=================================================================\n",
            "conv2d_4 (Conv2D)            (None, 26, 26, 32)        320       \n",
            "_________________________________________________________________\n",
            "batch_normalization_5 (Batch (None, 26, 26, 32)        128       \n",
            "_________________________________________________________________\n",
            "activation_6 (Activation)    (None, 26, 26, 32)        0         \n",
            "_________________________________________________________________\n",
            "conv2d_5 (Conv2D)            (None, 24, 24, 32)        9248      \n",
            "_________________________________________________________________\n",
            "batch_normalization_6 (Batch (None, 24, 24, 32)        128       \n",
            "_________________________________________________________________\n",
            "activation_7 (Activation)    (None, 24, 24, 32)        0         \n",
            "_________________________________________________________________\n",
            "max_pooling2d_2 (MaxPooling2 (None, 12, 12, 32)        0         \n",
            "_________________________________________________________________\n",
            "conv2d_6 (Conv2D)            (None, 10, 10, 64)        18496     \n",
            "_________________________________________________________________\n",
            "batch_normalization_7 (Batch (None, 10, 10, 64)        256       \n",
            "_________________________________________________________________\n",
            "activation_8 (Activation)    (None, 10, 10, 64)        0         \n",
            "_________________________________________________________________\n",
            "conv2d_7 (Conv2D)            (None, 8, 8, 64)          36928     \n",
            "_________________________________________________________________\n",
            "batch_normalization_8 (Batch (None, 8, 8, 64)          256       \n",
            "_________________________________________________________________\n",
            "activation_9 (Activation)    (None, 8, 8, 64)          0         \n",
            "_________________________________________________________________\n",
            "max_pooling2d_3 (MaxPooling2 (None, 4, 4, 64)          0         \n",
            "_________________________________________________________________\n",
            "flatten_1 (Flatten)          (None, 1024)              0         \n",
            "_________________________________________________________________\n",
            "dense_2 (Dense)              (None, 512)               524800    \n",
            "_________________________________________________________________\n",
            "batch_normalization_9 (Batch (None, 512)               2048      \n",
            "_________________________________________________________________\n",
            "activation_10 (Activation)   (None, 512)               0         \n",
            "_________________________________________________________________\n",
            "dropout_1 (Dropout)          (None, 512)               0         \n",
            "_________________________________________________________________\n",
            "dense_3 (Dense)              (None, 10)                5130      \n",
            "_________________________________________________________________\n",
            "activation_11 (Activation)   (None, 10)                0         \n",
            "=================================================================\n",
            "Total params: 597,738\n",
            "Trainable params: 596,330\n",
            "Non-trainable params: 1,408\n",
            "_________________________________________________________________\n"
          ],
          "name": "stdout"
        }
      ]
    },
    {
      "cell_type": "code",
      "metadata": {
        "colab": {
          "base_uri": "https://localhost:8080/"
        },
        "id": "q-ozE9A0OoI5",
        "outputId": "3cdb752a-70f1-44c4-cd38-1fe4b4184082"
      },
      "source": [
        "# Custom Keras callback to stop training when certain accuracy is achieved.\n",
        "class MyThresholdCallback(Callback):\n",
        "    def __init__(self, threshold):\n",
        "        super(MyThresholdCallback, self).__init__()\n",
        "        self.threshold = threshold\n",
        "\n",
        "    def on_epoch_end(self, epoch, logs=None):\n",
        "        val_acc = logs[\"val_accuracy\"]\n",
        "        if val_acc >= self.threshold:\n",
        "            self.model.stop_training = True\n",
        "\n",
        "\n",
        "model.fit(x_train, y_train, epochs=5, callbacks=[MyThresholdCallback(1)],validation_data=(x_test, y_test))"
      ],
      "execution_count": 14,
      "outputs": [
        {
          "output_type": "stream",
          "text": [
            "Epoch 1/5\n",
            "   5/1875 [..............................] - ETA: 27s - loss: 0.0625 - accuracy: 0.9875WARNING:tensorflow:Callback method `on_train_batch_end` is slow compared to the batch time (batch time: 0.0068s vs `on_train_batch_end` time: 0.0075s). Check your callbacks.\n",
            "1875/1875 [==============================] - 28s 15ms/step - loss: 0.0407 - accuracy: 0.9872 - val_loss: 0.0346 - val_accuracy: 0.9885\n",
            "Epoch 2/5\n",
            "1875/1875 [==============================] - 28s 15ms/step - loss: 0.0324 - accuracy: 0.9901 - val_loss: 0.0321 - val_accuracy: 0.9901\n",
            "Epoch 3/5\n",
            "1875/1875 [==============================] - 28s 15ms/step - loss: 0.0255 - accuracy: 0.9920 - val_loss: 0.0178 - val_accuracy: 0.9937\n",
            "Epoch 4/5\n",
            "1875/1875 [==============================] - 27s 15ms/step - loss: 0.0231 - accuracy: 0.9925 - val_loss: 0.0165 - val_accuracy: 0.9947\n",
            "Epoch 5/5\n",
            "1875/1875 [==============================] - 28s 15ms/step - loss: 0.0185 - accuracy: 0.9942 - val_loss: 0.0269 - val_accuracy: 0.9917\n"
          ],
          "name": "stdout"
        },
        {
          "output_type": "execute_result",
          "data": {
            "text/plain": [
              "<keras.callbacks.History at 0x7fd1ce001dd0>"
            ]
          },
          "metadata": {
            "tags": []
          },
          "execution_count": 14
        }
      ]
    },
    {
      "cell_type": "code",
      "metadata": {
        "colab": {
          "base_uri": "https://localhost:8080/"
        },
        "id": "WMBqCIlTQHXT",
        "outputId": "8fd5e580-b5f8-4a7e-9a82-19ac016a86aa"
      },
      "source": [
        "# Saving the model\n",
        "model.save(\"CNN_on_MNIST\")"
      ],
      "execution_count": 15,
      "outputs": [
        {
          "output_type": "stream",
          "text": [
            "INFO:tensorflow:Assets written to: CNN_on_MNIST/assets\n"
          ],
          "name": "stdout"
        }
      ]
    },
    {
      "cell_type": "code",
      "metadata": {
        "colab": {
          "base_uri": "https://localhost:8080/"
        },
        "id": "OTCDXOLqQOxf",
        "outputId": "2b0919b7-eeb2-4cd7-90bc-913a8d65cbbd"
      },
      "source": [
        "from keras.models import load_model\n",
        "\n",
        "# loading saved model\n",
        "model = load_model(\"CNN_on_MNIST\")\n",
        "predicted = model.predict(x_test)\n",
        "\n",
        "print(predicted)\n",
        "\n",
        "# Checking Individual sample\n",
        "print(\"ACTUAL VALUE : \",y_test[2])\n",
        "print(\"PREDICTED VALUE : \",np.argmax(predicted[2]))"
      ],
      "execution_count": 23,
      "outputs": [
        {
          "output_type": "stream",
          "text": [
            "[[3.1298050e-08 2.3216164e-06 2.8821364e-07 ... 9.9999309e-01\n",
            "  9.8614690e-09 3.2712703e-06]\n",
            " [1.1494640e-08 1.3175214e-06 9.9999857e-01 ... 5.5663413e-08\n",
            "  1.8841387e-08 1.4342296e-09]\n",
            " [1.7100593e-09 9.9999166e-01 8.0418154e-08 ... 8.0041482e-06\n",
            "  2.1956339e-09 2.4256310e-09]\n",
            " ...\n",
            " [7.3667064e-16 5.2630361e-10 8.0806042e-14 ... 4.6080117e-10\n",
            "  2.9413749e-10 2.2223792e-11]\n",
            " [1.5717619e-09 1.3788767e-13 1.5764327e-14 ... 5.2275122e-13\n",
            "  1.9629299e-08 5.9681765e-12]\n",
            " [2.5247698e-07 1.7176415e-11 3.2611965e-07 ... 4.7227505e-13\n",
            "  9.1711399e-08 4.9560123e-13]]\n",
            "ACTUAL VALUE :  1\n",
            "PREDICTED VALUE :  1\n"
          ],
          "name": "stdout"
        }
      ]
    }
  ]
}